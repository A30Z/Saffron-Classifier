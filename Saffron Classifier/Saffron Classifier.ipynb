{
 "cells": [
  {
   "cell_type": "code",
   "execution_count": 1,
   "id": "6b20d0d5",
   "metadata": {},
   "outputs": [],
   "source": [
    "import numpy as np\n",
    "import cv2\n",
    "import os\n",
    "import glob\n",
    "from sklearn.metrics import mean_squared_error\n",
    "import matplotlib.pyplot as plt\n",
    "from PIL import Image\n",
    "from sklearn import tree\n",
    "from sklearn import metrics\n",
    "from sklearn.cluster import KMeans\n",
    "from skimage.feature import hog\n",
    "from skimage.filters import gabor\n",
    "from sklearn.svm import SVC\n",
    "from sklearn import svm\n",
    "from sklearn.metrics import accuracy_score\n",
    "from sklearn.model_selection import GridSearchCV\n",
    "from sklearn.metrics import make_scorer, accuracy_score\n",
    "from sklearn import preprocessing as p\n",
    "from sklearn.ensemble import RandomForestClassifier\n",
    "from scipy.stats import randint\n",
    "from sklearn.model_selection import RandomizedSearchCV, train_test_split\n",
    "import random"
   ]
  },
  {
   "cell_type": "markdown",
   "id": "8431c0c6",
   "metadata": {},
   "source": [
    "### add black background and convert every pictures to same size without changing appearance"
   ]
  },
  {
   "cell_type": "code",
   "execution_count": 2,
   "id": "86ebe470",
   "metadata": {},
   "outputs": [],
   "source": [
    "def preprocess(img):\n",
    "    img = cv2.cvtColor(img, cv2.COLOR_BGR2RGB)\n",
    "    height, width = img.shape[:2]\n",
    "    blank_image = np.zeros((900,900,3), np.uint8)\n",
    "    blank_image[:,:] = (255,255,255)\n",
    "    l_img = blank_image.copy()     \n",
    "    x_offset = 100\n",
    "    y_offset = 100\n",
    "    l_img[y_offset:y_offset+height, x_offset:x_offset+width] = img.copy()\n",
    "    lower_range = (70, 0, 0)\n",
    "    upper_range = (255, 255, 120) \n",
    "    mask = cv2.inRange(l_img, lower_range, upper_range)\n",
    "    img = cv2.bitwise_and(l_img, l_img, mask=mask)\n",
    "    return img,height,width"
   ]
  },
  {
   "cell_type": "markdown",
   "id": "eb888c27",
   "metadata": {},
   "source": [
    "### get lines of saffron , using this for smoothness"
   ]
  },
  {
   "cell_type": "code",
   "execution_count": 3,
   "id": "61ddfd36",
   "metadata": {},
   "outputs": [],
   "source": [
    "def get_lines(gray_image):\n",
    "    edge = cv2.Canny(gray_image, 50, 200, None, 3)\n",
    "    lines = cv2.HoughLinesP(\n",
    "    edge, \n",
    "    rho=1, \n",
    "    theta=np.pi / 180, \n",
    "    threshold=10, \n",
    "    minLineLength=10,    \n",
    "    maxLineGap=10\n",
    ")\n",
    "    return lines"
   ]
  },
  {
   "cell_type": "markdown",
   "id": "ba7126cc",
   "metadata": {},
   "source": [
    "### Measuring the destiny of the angles of the lines"
   ]
  },
  {
   "cell_type": "code",
   "execution_count": 4,
   "id": "1b673192",
   "metadata": {},
   "outputs": [],
   "source": [
    "def get_destiny(lines):\n",
    "    angles = []\n",
    "    sum=0\n",
    "    degs = np.zeros(5)   \n",
    "    for line in lines:\n",
    "        x1, y1, x2, y2 = line[0]\n",
    "        angle = np.arctan2(y2 - y1, x2 - x1) * 180.0 / np.pi  \n",
    "        angles.append(angle)\n",
    "    for angel in angles:\n",
    "        angel += 90\n",
    "        angel = angel // 45\n",
    "        angel = int (angel)\n",
    "        degs[angel] = 1\n",
    "    for i in range(5):\n",
    "        sum+=degs[i]\n",
    "    \n",
    "    return sum  "
   ]
  },
  {
   "cell_type": "markdown",
   "id": "df0edbcc",
   "metadata": {},
   "source": [
    "### using this to measuring the smoothness of saffron"
   ]
  },
  {
   "cell_type": "code",
   "execution_count": 5,
   "id": "768c4ef2",
   "metadata": {},
   "outputs": [],
   "source": [
    "def get_khami(lines):\n",
    "    sum=0;\n",
    "    for line1 in lines:\n",
    "        for line2 in lines:\n",
    "            x11, y11, x12, y12 = line1[0]\n",
    "            x21, y21, x22, y22 = line2[0]\n",
    "            ang1 = (np.arctan2(y12 - y11, x12 - x11) * 180.0 / np.pi)\n",
    "            ang2 = (np.arctan2(y22 - y21, x22 - x21) * 180.0 / np.pi)\n",
    "            diff = min ( abs(ang1 - ang2) , 180 - abs(ang1 - ang2) )\n",
    "            sum += (diff)\n",
    "    return (sum/2 )/(len(lines) * len(lines))"
   ]
  },
  {
   "cell_type": "markdown",
   "id": "450512aa",
   "metadata": {},
   "source": [
    "### counting number of yellow pixels in saffron pictures"
   ]
  },
  {
   "cell_type": "code",
   "execution_count": 6,
   "id": "f5070b82",
   "metadata": {},
   "outputs": [],
   "source": [
    "def yellow_mask(img):\n",
    "    img = cv2.cvtColor(img, cv2.COLOR_BGR2HSV)\n",
    "    lower_range = (0, 150, 200) \n",
    "    upper_range = (105, 255, 255) \n",
    "    mask = cv2.inRange(img, lower_range, upper_range)\n",
    "    color_img = cv2.bitwise_and(img, img, mask=mask)\n",
    "    return np.count_nonzero(color_img)"
   ]
  },
  {
   "cell_type": "markdown",
   "id": "5eac96cf",
   "metadata": {},
   "source": [
    "### skeletonize binary image"
   ]
  },
  {
   "cell_type": "code",
   "execution_count": 7,
   "id": "dac08ff8",
   "metadata": {},
   "outputs": [],
   "source": [
    "def skeletonize(binary_image):\n",
    "    size = np.size(binary_image)\n",
    "    skel = np.zeros(binary_image.shape, np.uint8)\n",
    "\n",
    "    element = cv2.getStructuringElement(cv2.MORPH_CROSS, (3, 3))\n",
    "    done = False\n",
    "\n",
    "    while not done:\n",
    "        eroded = cv2.erode(binary_image, element)\n",
    "        temp = cv2.dilate(eroded, element)\n",
    "        temp = cv2.subtract(binary_image, temp)\n",
    "        skel = cv2.bitwise_or(skel, temp)\n",
    "        binary_image = eroded.copy()\n",
    "\n",
    "        zeros = size - cv2.countNonZero(binary_image)\n",
    "        done = zeros == size\n",
    "\n",
    "    return skel"
   ]
  },
  {
   "cell_type": "markdown",
   "id": "7d5c1f36",
   "metadata": {},
   "source": [
    "### using this to measurement of branching"
   ]
  },
  {
   "cell_type": "code",
   "execution_count": 8,
   "id": "c97f63a3",
   "metadata": {},
   "outputs": [],
   "source": [
    "def detect_branch_points(skeleton,heigth,width):\n",
    "        sum=0\n",
    "        for i in range(100,100+heigth):   \n",
    "            for j in range(100,100+width):\n",
    "                if(skeleton[i,j]==0):\n",
    "                    column = skeleton[:, j]\n",
    "                    row = skeleton[i, :]\n",
    "                    rights = np.count_nonzero(row[:j] > 200)\n",
    "                    lefts = np.count_nonzero(row[j:] > 200)\n",
    "                    ups = np.count_nonzero(column[:i] > 200)\n",
    "                    downs = np.count_nonzero(column[i:] > 200)\n",
    "                    if(rights * lefts  > 0):\n",
    "                        sum += 1\n",
    "                    if(ups * downs > 0):\n",
    "                        sum += 1\n",
    "        return sum"
   ]
  },
  {
   "cell_type": "markdown",
   "id": "3f199218",
   "metadata": {},
   "source": [
    "### using this to measurement of branching"
   ]
  },
  {
   "cell_type": "code",
   "execution_count": 9,
   "id": "e4dd85d5",
   "metadata": {},
   "outputs": [],
   "source": [
    "def detect_branch_points2(skeleton,heigth,width):\n",
    "        sum=0\n",
    "        for i in range(100,100+heigth):   \n",
    "            for j in range(100,100+width):\n",
    "                if(skeleton[i,j]==0):\n",
    "                    column = skeleton[:, j]\n",
    "                    row = skeleton[i, :]\n",
    "                    rights = np.count_nonzero(row[:j] > 200)\n",
    "                    lefts = np.count_nonzero(row[j:] > 200)\n",
    "                    ups = np.count_nonzero(column[:i] > 200)\n",
    "                    downs = np.count_nonzero(column[i:] > 200)\n",
    "                    if(rights * lefts * ups * downs > 0):\n",
    "                        sum+=1\n",
    "        return sum"
   ]
  },
  {
   "cell_type": "markdown",
   "id": "928397cc",
   "metadata": {},
   "source": [
    "### best model to classify to 'neging' and 'not_negin'"
   ]
  },
  {
   "cell_type": "code",
   "execution_count": 12,
   "id": "702e094c",
   "metadata": {},
   "outputs": [
    {
     "data": {
      "image/png": "[encoded data removed]",
      "text/plain": [
       "<Figure size 640x480 with 2 Axes>"
      ]
     },
     "metadata": {},
     "output_type": "display_data"
    },
    {
     "name": "stdout",
     "output_type": "stream",
     "text": [
      "Accuracy: 0.8947368421052632\n"
     ]
    }
   ],
   "source": [
    "train_path  = \"Desktop/negin_train\"\n",
    "train_names = os.listdir(train_path)\n",
    "train_pics = []\n",
    "train_labels   = []\n",
    "train_features = []\n",
    "plot2 = []\n",
    "for train_name in train_names:\n",
    "   cur_path = train_path + \"/\" + train_name\n",
    "   cur_label = train_name\n",
    "   for file in glob.glob(cur_path + \"/*.jpg\"):\n",
    "       img = cv2.imread(file)  \n",
    " \n",
    "       img,heigth,width = preprocess(img) \n",
    "       yellow_pixels = yellow_mask(img)  \n",
    "       gray_image = cv2.cvtColor(img, cv2.COLOR_BGR2GRAY)                         \n",
    "       _, binary_image = cv2.threshold(gray_image, 10, 255, cv2.THRESH_BINARY)\n",
    "       skeleton = skeletonize(binary_image)\n",
    "       length = cv2.countNonZero(skeleton) \n",
    "       branch_points = detect_branch_points(skeleton,heigth,width) \n",
    "       branch_points2 = detect_branch_points2(skeleton,heigth,width) \n",
    "       lines = get_lines(skeleton)\n",
    "       destiny = get_destiny(lines)     \n",
    "       khami = get_khami(lines) \n",
    "       feature = [branch_points2,yellow_pixels]  \n",
    "       train_features.append( feature ) \n",
    "       train_labels.append(cur_label) \n",
    "        \n",
    "arr = np.array(train_features)\n",
    "min_max_scaler = p.MinMaxScaler()\n",
    "train_features = min_max_scaler.fit_transform(arr)\n",
    "\n",
    "test_features = []\n",
    "test_pics = []\n",
    "test_labels = []\n",
    "test_pr = []\n",
    "\n",
    "test_path = (\"Desktop/negin_test\")\n",
    "test_names = os.listdir(test_path)\n",
    "for test_name in test_names:\n",
    "   cur_path = test_path + \"/\" + test_name\n",
    "   cur_label = test_name\n",
    "   for file in glob.glob(cur_path + \"/*.jpg\"):\n",
    "       img = cv2.imread(file) \n",
    "  \n",
    "       img,heigth,width = preprocess(img) \n",
    "       yellow_pixels = yellow_mask(img)  \n",
    "       gray_image = cv2.cvtColor(img, cv2.COLOR_BGR2GRAY)\n",
    "       _, binary_image = cv2.threshold(gray_image, 10, 255, cv2.THRESH_BINARY)\n",
    "       skeleton = skeletonize(binary_image)\n",
    "       length = cv2.countNonZero(skeleton) \n",
    "       branch_points = detect_branch_points(skeleton,heigth,width) \n",
    "       branch_points2 = detect_branch_points2(skeleton,heigth,width) \n",
    "       lines = get_lines(skeleton)\n",
    "       destiny = get_destiny(lines)     \n",
    "       feature = [branch_points2,yellow_pixels]   \n",
    "       test_features.append( feature ) \n",
    "       test_labels.append(cur_label)  \n",
    "    \n",
    "arr = np.array(test_features)\n",
    "min_max_scaler = p.MinMaxScaler()\n",
    "test_features = min_max_scaler.fit_transform(arr)\n",
    "\n",
    "\n",
    "model = SVC(C=100, kernel='rbf')\n",
    "model.fit(train_features, train_labels)\n",
    "prediction = model.predict(test_features)\n",
    "confusion_matrix = metrics.confusion_matrix(test_labels, prediction)\n",
    "cm_display = metrics.ConfusionMatrixDisplay(confusion_matrix = confusion_matrix, display_labels = ['negin','notnegin'])\n",
    "cm_display.plot()\n",
    "plt.show()\n",
    "print(\"Accuracy:\",metrics.accuracy_score(test_labels, prediction))"
   ]
  },
  {
   "cell_type": "markdown",
   "id": "0a895558",
   "metadata": {},
   "source": [
    "### best model to classify to 'negal' and 'not_negal'"
   ]
  },
  {
   "cell_type": "code",
   "execution_count": 25,
   "id": "fe432f6b",
   "metadata": {
    "scrolled": false
   },
   "outputs": [
    {
     "data": {
      "image/png": "[encoded data removed]",
      "text/plain": [
       "<Figure size 640x480 with 2 Axes>"
      ]
     },
     "metadata": {},
     "output_type": "display_data"
    },
    {
     "name": "stdout",
     "output_type": "stream",
     "text": [
      "Accuracy: 0.8571428571428571\n"
     ]
    }
   ],
   "source": [
    "train_path  = \"Desktop/negal_train\"\n",
    "train_names = os.listdir(train_path)\n",
    "train_pics = []\n",
    "train_labels   = []\n",
    "train_features = []\n",
    "plot2 = []\n",
    "for train_name in train_names:\n",
    "   cur_path = train_path + \"/\" + train_name\n",
    "   cur_label = train_name\n",
    "   for file in glob.glob(cur_path + \"/*.jpg\"):\n",
    "       img = cv2.imread(file)  \n",
    "       csc = calculate_stigma_count(img)  \n",
    "       img,heigth,width = preprocess(img) \n",
    "       yellow_pixels = yellow_mask(img)  \n",
    "       gray_image = cv2.cvtColor(img, cv2.COLOR_BGR2GRAY)                         \n",
    "       _, binary_image = cv2.threshold(gray_image, 10, 255, cv2.THRESH_BINARY)\n",
    "       skeleton = skeletonize(binary_image)\n",
    "       length = cv2.countNonZero(skeleton) \n",
    "       branch_points = detect_branch_points(skeleton,heigth,width) \n",
    "       branch_points2 = detect_branch_points2(skeleton,heigth,width) \n",
    "       lines = get_lines(skeleton)\n",
    "       destiny = get_destiny(lines)     \n",
    "       khami = get_khami(lines) \n",
    "       feature = [branch_points2,yellow_pixels]\n",
    "       train_features.append( feature ) \n",
    "       train_labels.append(cur_label) \n",
    "        \n",
    "arr = np.array(train_features)\n",
    "min_max_scaler = p.MinMaxScaler()\n",
    "train_features = min_max_scaler.fit_transform(arr)\n",
    "\n",
    "test_features = []\n",
    "test_pics = []\n",
    "test_labels = []\n",
    "test_pr = []\n",
    "\n",
    "test_path = (\"Desktop/negal_test\")\n",
    "test_names = os.listdir(test_path)\n",
    "for test_name in test_names:\n",
    "   cur_path = test_path + \"/\" + test_name\n",
    "   cur_label = test_name\n",
    "   for file in glob.glob(cur_path + \"/*.jpg\"):\n",
    "       img = cv2.imread(file) \n",
    "       csc = calculate_stigma_count(img)   \n",
    "       img,heigth,width = preprocess(img) \n",
    "       yellow_pixels = yellow_mask(img)  \n",
    "       gray_image = cv2.cvtColor(img, cv2.COLOR_BGR2GRAY)\n",
    "       _, binary_image = cv2.threshold(gray_image, 10, 255, cv2.THRESH_BINARY)\n",
    "       skeleton = skeletonize(binary_image)\n",
    "       length = cv2.countNonZero(skeleton) \n",
    "       branch_points = detect_branch_points(skeleton,heigth,width) \n",
    "       branch_points2 = detect_branch_points2(skeleton,heigth,width) \n",
    "       lines = get_lines(skeleton)\n",
    "       destiny = get_destiny(lines)     \n",
    "       khami = get_khami(lines)\n",
    "       feature = [branch_points2,yellow_pixels] \n",
    "       test_features.append( feature ) \n",
    "       test_labels.append(cur_label)  \n",
    "    \n",
    "arr = np.array(test_features)\n",
    "min_max_scaler = p.MinMaxScaler()\n",
    "test_features = min_max_scaler.fit_transform(arr)\n",
    "\n",
    "\n",
    "model = SVC(C=100, kernel='rbf')\n",
    "model.fit(train_features, train_labels)\n",
    "prediction = model.predict(test_features)\n",
    "confusion_matrix = metrics.confusion_matrix(test_labels, prediction)\n",
    "cm_display = metrics.ConfusionMatrixDisplay(confusion_matrix = confusion_matrix, display_labels = ['negal','notnegal'])\n",
    "cm_display.plot()\n",
    "plt.show()\n",
    "print(\"Accuracy:\",metrics.accuracy_score(test_labels, prediction))"
   ]
  },
  {
   "cell_type": "markdown",
   "id": "84a05fb7",
   "metadata": {},
   "source": [
    "### best model to classif to 'poshal' and 'not_poshal'"
   ]
  },
  {
   "cell_type": "code",
   "execution_count": 14,
   "id": "47e93064",
   "metadata": {},
   "outputs": [
    {
     "data": {
      "image/png": "[encoded data removed]",
      "text/plain": [
       "<Figure size 640x480 with 2 Axes>"
      ]
     },
     "metadata": {},
     "output_type": "display_data"
    },
    {
     "name": "stdout",
     "output_type": "stream",
     "text": [
      "Accuracy: 0.8070175438596491\n"
     ]
    }
   ],
   "source": [
    "train_path  = \"Desktop/poshal_train\"\n",
    "train_names = os.listdir(train_path)\n",
    "train_pics = []\n",
    "train_labels   = []\n",
    "train_features = []\n",
    "plot2 = []\n",
    "for train_name in train_names:\n",
    "   cur_path = train_path + \"/\" + train_name\n",
    "   cur_label = train_name\n",
    "   for file in glob.glob(cur_path + \"/*.jpg\"):\n",
    "       img = cv2.imread(file)  \n",
    " \n",
    "       img,heigth,width = preprocess(img) \n",
    "       yellow_pixels = yellow_mask(img)  \n",
    "       gray_image = cv2.cvtColor(img, cv2.COLOR_BGR2GRAY)                         \n",
    "       _, binary_image = cv2.threshold(gray_image, 10, 255, cv2.THRESH_BINARY)\n",
    "       skeleton = skeletonize(binary_image)\n",
    "       length = cv2.countNonZero(skeleton) \n",
    "       branch_points = detect_branch_points(skeleton,heigth,width) \n",
    "       branch_points2 = detect_branch_points2(skeleton,heigth,width) \n",
    "       lines = get_lines(skeleton)\n",
    "       destiny = get_destiny(lines)     \n",
    "       khami = get_khami(lines) \n",
    "       feature = [branch_points2,yellow_pixels] \n",
    "       train_features.append( feature ) \n",
    "       train_labels.append(cur_label) \n",
    "        \n",
    "arr = np.array(train_features)\n",
    "min_max_scaler = p.MinMaxScaler()\n",
    "train_features = min_max_scaler.fit_transform(arr)\n",
    "\n",
    "test_features = []\n",
    "test_pics = []\n",
    "test_labels = []\n",
    "test_pr = []\n",
    "\n",
    "test_path = (\"Desktop/poshal_test\")\n",
    "test_names = os.listdir(test_path)\n",
    "for test_name in test_names:\n",
    "   cur_path = test_path + \"/\" + test_name\n",
    "   cur_label = test_name\n",
    "   for file in glob.glob(cur_path + \"/*.jpg\"):\n",
    "       img = cv2.imread(file) \n",
    "  \n",
    "       img,heigth,width = preprocess(img) \n",
    "       yellow_pixels = yellow_mask(img)  \n",
    "       gray_image = cv2.cvtColor(img, cv2.COLOR_BGR2GRAY)\n",
    "       _, binary_image = cv2.threshold(gray_image, 10, 255, cv2.THRESH_BINARY)\n",
    "       skeleton = skeletonize(binary_image)\n",
    "       length = cv2.countNonZero(skeleton) \n",
    "       branch_points = detect_branch_points(skeleton,heigth,width) \n",
    "       branch_points2 = detect_branch_points2(skeleton,heigth,width) \n",
    "       lines = get_lines(skeleton)\n",
    "       destiny = get_destiny(lines)     \n",
    "       khami = get_khami(lines)\n",
    "       feature = [branch_points2,yellow_pixels]  \n",
    "       test_features.append( feature ) \n",
    "       test_labels.append(cur_label)  \n",
    "    \n",
    "arr = np.array(test_features)\n",
    "min_max_scaler = p.MinMaxScaler()\n",
    "test_features = min_max_scaler.fit_transform(arr)\n",
    "\n",
    "model = SVC(C=100, kernel='rbf')\n",
    "model.fit(train_features, train_labels)\n",
    "prediction = model.predict(test_features)\n",
    "confusion_matrix = metrics.confusion_matrix(test_labels, prediction)\n",
    "cm_display = metrics.ConfusionMatrixDisplay(confusion_matrix = confusion_matrix, display_labels = ['notposhal','poshal'])\n",
    "cm_display.plot()\n",
    "plt.show()\n",
    "print(\"Accuracy:\",metrics.accuracy_score(test_labels, prediction))"
   ]
  },
  {
   "cell_type": "markdown",
   "id": "505a9736",
   "metadata": {},
   "source": [
    "## best final model to classify to 'negin','poshal','negal'\n",
    "### using just 'branch_points2' and 'yellow_pixels' give us the best score"
   ]
  },
  {
   "cell_type": "code",
   "execution_count": 15,
   "id": "92e6a7ea",
   "metadata": {},
   "outputs": [
    {
     "data": {
      "image/png": "[encoded data removed]",
      "text/plain": [
       "<Figure size 640x480 with 2 Axes>"
      ]
     },
     "metadata": {},
     "output_type": "display_data"
    },
    {
     "name": "stdout",
     "output_type": "stream",
     "text": [
      "Accuracy: 0.8070175438596491\n"
     ]
    }
   ],
   "source": [
    "train_path  = \"Desktop/train\"\n",
    "train_names = os.listdir(train_path)\n",
    "train_pics = []\n",
    "train_labels   = []\n",
    "train_features = []\n",
    "plot2 = []\n",
    "for train_name in train_names:\n",
    "   cur_path = train_path + \"/\" + train_name\n",
    "   cur_label = train_name\n",
    "   for file in glob.glob(cur_path + \"/*.jpg\"):\n",
    "       img = cv2.imread(file)  \n",
    " \n",
    "       img,heigth,width = preprocess(img) \n",
    "       yellow_pixels = yellow_mask(img)  \n",
    "       gray_image = cv2.cvtColor(img, cv2.COLOR_BGR2GRAY)                         \n",
    "       _, binary_image = cv2.threshold(gray_image, 10, 255, cv2.THRESH_BINARY)\n",
    "       skeleton = skeletonize(binary_image)\n",
    "       branch_points2 = detect_branch_points2(skeleton,heigth,width) \n",
    "       feature = [branch_points2,yellow_pixels]\n",
    "       train_features.append( feature ) \n",
    "       train_labels.append(cur_label) \n",
    "        \n",
    "arr = np.array(train_features)\n",
    "min_max_scaler = p.MinMaxScaler()\n",
    "train_features = min_max_scaler.fit_transform(arr)\n",
    "\n",
    "test_features = []\n",
    "test_pics = []\n",
    "test_labels = []\n",
    "test_pr = []\n",
    "\n",
    "test_path = (\"Desktop/test\")\n",
    "test_names = os.listdir(test_path)\n",
    "for test_name in test_names:\n",
    "   cur_path = test_path + \"/\" + test_name\n",
    "   cur_label = test_name\n",
    "   for file in glob.glob(cur_path + \"/*.jpg\"):\n",
    "       img = cv2.imread(file) \n",
    "  \n",
    "       img,heigth,width = preprocess(img) \n",
    "       yellow_pixels = yellow_mask(img)  \n",
    "       gray_image = cv2.cvtColor(img, cv2.COLOR_BGR2GRAY)\n",
    "       _, binary_image = cv2.threshold(gray_image, 10, 255, cv2.THRESH_BINARY)\n",
    "       skeleton = skeletonize(binary_image)\n",
    "       branch_points2 = detect_branch_points2(skeleton,heigth,width) \n",
    "       feature = [branch_points2,yellow_pixels]  \n",
    "       test_features.append( feature ) \n",
    "       test_labels.append(cur_label)  \n",
    "    \n",
    "arr = np.array(test_features)\n",
    "min_max_scaler = p.MinMaxScaler()\n",
    "test_features = min_max_scaler.fit_transform(arr)\n",
    "\n",
    "# Create a SVM classifier\n",
    "model = SVC(C=100, kernel='rbf')\n",
    "model.fit(train_features, train_labels)\n",
    "prediction = model.predict(test_features)\n",
    "confusion_matrix = metrics.confusion_matrix(test_labels, prediction)\n",
    "cm_display = metrics.ConfusionMatrixDisplay(confusion_matrix = confusion_matrix, display_labels = ['negal','negin','poshal'])\n",
    "cm_display.plot()\n",
    "plt.show()\n",
    "print(\"Accuracy:\",metrics.accuracy_score(test_labels, prediction))"
   ]
  }
 ],
 "metadata": {
  "kernelspec": {
   "display_name": "Python 3 (ipykernel)",
   "language": "python",
   "name": "python3"
  },
  "language_info": {
   "codemirror_mode": {
    "name": "ipython",
    "version": 3
   },
   "file_extension": ".py",
   "mimetype": "text/x-python",
   "name": "python",
   "nbconvert_exporter": "python",
   "pygments_lexer": "ipython3",
   "version": "3.11.0"
  }
 },
 "nbformat": 4,
 "nbformat_minor": 5
}
